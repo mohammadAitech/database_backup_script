{
 "cells": [
  {
   "cell_type": "code",
   "execution_count": 1,
   "metadata": {},
   "outputs": [],
   "source": [
    "import pyodbc as pdb\n",
    "import tkinter as tk"
   ]
  },
  {
   "cell_type": "code",
   "execution_count": 23,
   "metadata": {},
   "outputs": [
    {
     "name": "stdout",
     "output_type": "stream",
     "text": [
      "MOHAMMAD\n"
     ]
    }
   ],
   "source": [
    "server = \" \".join(input(\"enter your server name: \").split(\" \"))\n",
    "database = \"master\"\n",
    "username = \"mohammad\"\n",
    "password = \"\"\n",
    "print(server)"
   ]
  },
  {
   "cell_type": "code",
   "execution_count": 24,
   "metadata": {},
   "outputs": [],
   "source": [
    "connection = f\"DRIVER={{SQL Server}};SERVER={server};DATABASE={database};Trusted_Connection=yes;\"\n",
    "conn = pdb.connect(connection)\n",
    "cursor = conn.cursor()"
   ]
  },
  {
   "cell_type": "code",
   "execution_count": 25,
   "metadata": {},
   "outputs": [],
   "source": [
    "conn.autocommit=True"
   ]
  },
  {
   "cell_type": "code",
   "execution_count": 26,
   "metadata": {},
   "outputs": [
    {
     "data": {
      "text/plain": [
       "'CREATE DATABASE CHAM'"
      ]
     },
     "execution_count": 26,
     "metadata": {},
     "output_type": "execute_result"
    }
   ],
   "source": [
    "def create_database(db_name):\n",
    "    create_statement=f\"CREATE DATABASE {db_name}\"\n",
    "    create_db_query = create_statement\n",
    "    cursor.execute(create_db_query)\n",
    "\n",
    "    return create_db_query\n",
    "\n",
    "db_name=\"_\".join(input(\"enter your database name: \").split(\" \"))\n",
    "create_database(db_name)"
   ]
  },
  {
   "cell_type": "code",
   "execution_count": 8,
   "metadata": {},
   "outputs": [],
   "source": [
    "def create_table_db(table_name, fields, db_name):\n",
    "    try:\n",
    "        create_table_query = f\"\"\"\n",
    "            USE {db_name}\n",
    "            CREATE TABLE {table_name} ({fields});\n",
    "        \"\"\"\n",
    "        create_db_table = create_table_query\n",
    "        conn.execute(create_db_table)\n",
    "    except Exception as e:\n",
    "        print(f\"erorr: {e}\")\n",
    "\n",
    "table_name = \"_\".join(input(\"enter your table name: \").split(\" \"))\n",
    "field_name = \"_\".join(input(\"Enter the name of fields: \").split(\" \"))\n",
    "num_fields = int(input(\"Enter the number of fields: \"))\n",
    "\n",
    "fields = []\n",
    "for i in range(num_fields):\n",
    "    field_name = \"_\".join(input(f\"Enter the name of field {i+1}: \").split(\" \"))\n",
    "    field_type = input(f\"Enter the type of field {i+1} (e.g., INT, VARCHAR(50), DATE): \")\n",
    "    fields.append(f\"{field_name} {field_type}\")\n",
    "\n",
    "field_query = \", \".join(fields)\n",
    "create_table_db(table_name, field_query, db_name)"
   ]
  },
  {
   "cell_type": "code",
   "execution_count": 31,
   "metadata": {},
   "outputs": [],
   "source": [
    "db_name = 'chess_champions'"
   ]
  },
  {
   "cell_type": "code",
   "execution_count": 32,
   "metadata": {},
   "outputs": [
    {
     "name": "stdout",
     "output_type": "stream",
     "text": [
      "The table 'players' not exists in the database 'master'.\n",
      "The table 'players' not exists in the database 'tempdb'.\n",
      "The table 'players' not exists in the database 'model'.\n",
      "The table 'players' not exists in the database 'msdb'.\n",
      "The table 'players' not exists in the database 'DWDiagnostics'.\n",
      "The table 'players' not exists in the database 'DWConfiguration'.\n",
      "The table 'players' not exists in the database 'DWQueue'.\n",
      "The table 'players' not exists in the database 'student'.\n",
      "The table 'players' not exists in the database 'daneshjo'.\n",
      "The table 'players' not exists in the database 't'.\n",
      "The table 'players' not exists in the database 'mohammads'.\n",
      "The table 'players' not exists in the database 'test'.\n",
      "The table 'players' not exists in the database 'vorod'.\n",
      "The table 'players' not exists in the database 'school'.\n",
      "- id\n",
      "- name\n",
      "- age\n",
      "The table 'players' not exists in the database 'AF'.\n",
      "- name\n",
      "- family\n",
      "- age\n",
      "- numofchampion\n"
     ]
    }
   ],
   "source": [
    "database_query = \"SELECT name FROM sys.databases;\"\n",
    "\n",
    "cursor.execute(database_query)\n",
    "databases = cursor.fetchall()\n",
    "\n",
    "def select_all_field_tables(table_name):\n",
    "    for db in databases:\n",
    "        db_name=db[0]\n",
    "        try:\n",
    "\n",
    "            cursor.execute(f\"USE {db_name};\")\n",
    "\n",
    "            query=f\"\"\"\n",
    "                    SELECT COLUMN_NAME FROM INFORMATION_SCHEMA.COLUMNS WHERE TABLE_NAME = ?;\n",
    "                    \"\"\"\n",
    "            cursor.execute(query,(table_name,))\n",
    "\n",
    "            result = cursor.fetchall()\n",
    "\n",
    "            if result:\n",
    "                # print(f\"The table '{table_name}' exists in the database '{db_name}'.\")\n",
    "                for col in result:\n",
    "                    print(f\"- {col[0]}\")\n",
    "            else:\n",
    "                print(f\"The table '{table_name}' not exists in the database '{db_name}'.\")\n",
    "\n",
    "        except Exception as e:\n",
    "            print(f\"error: {e}\")\n",
    "select_all_field_tables(table_name)\n"
   ]
  },
  {
   "cell_type": "code",
   "execution_count": 33,
   "metadata": {},
   "outputs": [],
   "source": [
    "def drop_database(db_name):\n",
    "    all_drop = f\"\"\"\n",
    "                USE master;\n",
    "                ALTER DATABASE {db_name} SET SINGLE_USER WITH ROLLBACK IMMEDIATE;\n",
    "                DROP DATABASE {db_name};\n",
    "                \"\"\"\n",
    "    cursor.execute(all_drop)\n",
    "drop_database(db_name)"
   ]
  }
 ],
 "metadata": {
  "kernelspec": {
   "display_name": "Python 3",
   "language": "python",
   "name": "python3"
  },
  "language_info": {
   "codemirror_mode": {
    "name": "ipython",
    "version": 3
   },
   "file_extension": ".py",
   "mimetype": "text/x-python",
   "name": "python",
   "nbconvert_exporter": "python",
   "pygments_lexer": "ipython3",
   "version": "3.12.8"
  }
 },
 "nbformat": 4,
 "nbformat_minor": 2
}
